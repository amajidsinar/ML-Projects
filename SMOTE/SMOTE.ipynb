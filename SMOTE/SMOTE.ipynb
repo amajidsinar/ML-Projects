{
 "cells": [
  {
   "cell_type": "code",
   "execution_count": 297,
   "metadata": {},
   "outputs": [],
   "source": [
    "import pandas as pd\n",
    "import matplotlib.pyplot as plt\n",
    "import seaborn as sns\n",
    "import numpy as np"
   ]
  },
  {
   "cell_type": "code",
   "execution_count": 1,
   "metadata": {},
   "outputs": [
    {
     "ename": "NameError",
     "evalue": "name 'pd' is not defined",
     "output_type": "error",
     "traceback": [
      "\u001b[0;31m---------------------------------------------------------------------------\u001b[0m",
      "\u001b[0;31mNameError\u001b[0m                                 Traceback (most recent call last)",
      "\u001b[0;32m<ipython-input-1-c292dfb4d3df>\u001b[0m in \u001b[0;36m<module>\u001b[0;34m()\u001b[0m\n\u001b[0;32m----> 1\u001b[0;31m \u001b[0mdf\u001b[0m \u001b[0;34m=\u001b[0m \u001b[0mpd\u001b[0m\u001b[0;34m.\u001b[0m\u001b[0mread_csv\u001b[0m\u001b[0;34m(\u001b[0m\u001b[0;34m\"orthopedi_biomechanical.csv\"\u001b[0m\u001b[0;34m)\u001b[0m\u001b[0;34m\u001b[0m\u001b[0m\n\u001b[0m",
      "\u001b[0;31mNameError\u001b[0m: name 'pd' is not defined"
     ]
    }
   ],
   "source": [
    "df = pd.read_csv(\"orthopedi_biomechanical.csv\")"
   ]
  },
  {
   "cell_type": "code",
   "execution_count": 299,
   "metadata": {},
   "outputs": [
    {
     "data": {
      "text/html": [
       "<div>\n",
       "<style scoped>\n",
       "    .dataframe tbody tr th:only-of-type {\n",
       "        vertical-align: middle;\n",
       "    }\n",
       "\n",
       "    .dataframe tbody tr th {\n",
       "        vertical-align: top;\n",
       "    }\n",
       "\n",
       "    .dataframe thead th {\n",
       "        text-align: right;\n",
       "    }\n",
       "</style>\n",
       "<table border=\"1\" class=\"dataframe\">\n",
       "  <thead>\n",
       "    <tr style=\"text-align: right;\">\n",
       "      <th></th>\n",
       "      <th>pelvic_incidence</th>\n",
       "      <th>pelvic_tilt numeric</th>\n",
       "      <th>lumbar_lordosis_angle</th>\n",
       "      <th>sacral_slope</th>\n",
       "      <th>pelvic_radius</th>\n",
       "      <th>degree_spondylolisthesis</th>\n",
       "      <th>class</th>\n",
       "    </tr>\n",
       "  </thead>\n",
       "  <tbody>\n",
       "    <tr>\n",
       "      <th>0</th>\n",
       "      <td>0.128992</td>\n",
       "      <td>0.498719</td>\n",
       "      <td>-0.681174</td>\n",
       "      <td>-0.192038</td>\n",
       "      <td>-1.446647</td>\n",
       "      <td>-0.708059</td>\n",
       "      <td>0</td>\n",
       "    </tr>\n",
       "    <tr>\n",
       "      <th>1</th>\n",
       "      <td>-1.277491</td>\n",
       "      <td>-0.759197</td>\n",
       "      <td>-1.473505</td>\n",
       "      <td>-1.069354</td>\n",
       "      <td>-0.262969</td>\n",
       "      <td>-0.579556</td>\n",
       "      <td>0</td>\n",
       "    </tr>\n",
       "    <tr>\n",
       "      <th>2</th>\n",
       "      <td>0.469551</td>\n",
       "      <td>0.465075</td>\n",
       "      <td>-0.112021</td>\n",
       "      <td>0.277089</td>\n",
       "      <td>-0.896493</td>\n",
       "      <td>-0.795421</td>\n",
       "      <td>0</td>\n",
       "    </tr>\n",
       "    <tr>\n",
       "      <th>3</th>\n",
       "      <td>0.496834</td>\n",
       "      <td>0.710221</td>\n",
       "      <td>-0.425884</td>\n",
       "      <td>0.126575</td>\n",
       "      <td>-1.206219</td>\n",
       "      <td>-0.402288</td>\n",
       "      <td>0</td>\n",
       "    </tr>\n",
       "    <tr>\n",
       "      <th>4</th>\n",
       "      <td>-0.652259</td>\n",
       "      <td>-0.800376</td>\n",
       "      <td>-1.294229</td>\n",
       "      <td>-0.223713</td>\n",
       "      <td>-0.732204</td>\n",
       "      <td>-0.490106</td>\n",
       "      <td>0</td>\n",
       "    </tr>\n",
       "  </tbody>\n",
       "</table>\n",
       "</div>"
      ],
      "text/plain": [
       "   pelvic_incidence  pelvic_tilt numeric  lumbar_lordosis_angle  sacral_slope  \\\n",
       "0          0.128992             0.498719              -0.681174     -0.192038   \n",
       "1         -1.277491            -0.759197              -1.473505     -1.069354   \n",
       "2          0.469551             0.465075              -0.112021      0.277089   \n",
       "3          0.496834             0.710221              -0.425884      0.126575   \n",
       "4         -0.652259            -0.800376              -1.294229     -0.223713   \n",
       "\n",
       "   pelvic_radius  degree_spondylolisthesis  class  \n",
       "0      -1.446647                 -0.708059      0  \n",
       "1      -0.262969                 -0.579556      0  \n",
       "2      -0.896493                 -0.795421      0  \n",
       "3      -1.206219                 -0.402288      0  \n",
       "4      -0.732204                 -0.490106      0  "
      ]
     },
     "execution_count": 299,
     "metadata": {},
     "output_type": "execute_result"
    }
   ],
   "source": [
    "df.head()"
   ]
  },
  {
   "cell_type": "code",
   "execution_count": 300,
   "metadata": {},
   "outputs": [],
   "source": [
    "X = df.iloc[:,:6]\n",
    "y = df.iloc[:,6:7]\n",
    "\n",
    "from sklearn.model_selection import train_test_split\n",
    "\n",
    "df_train, df_test = train_test_split(df, test_size=0.2, random_state=69)"
   ]
  },
  {
   "cell_type": "code",
   "execution_count": 301,
   "metadata": {},
   "outputs": [],
   "source": [
    "df_train = df_train.reset_index(drop=True)\n",
    "df_test = df_test.reset_index(drop=True)"
   ]
  },
  {
   "cell_type": "code",
   "execution_count": 302,
   "metadata": {},
   "outputs": [
    {
     "data": {
      "text/plain": [
       "Text(0.5,1,'train')"
      ]
     },
     "execution_count": 302,
     "metadata": {},
     "output_type": "execute_result"
    },
    {
     "data": {
      "image/png": "[encoded data removed]",
      "text/plain": [
       "<Figure size 432x288 with 1 Axes>"
      ]
     },
     "metadata": {},
     "output_type": "display_data"
    }
   ],
   "source": [
    "sns.countplot(x=\"class\", data=df_train)\n",
    "plt.title(\"train\")"
   ]
  },
  {
   "cell_type": "code",
   "execution_count": 303,
   "metadata": {},
   "outputs": [
    {
     "data": {
      "text/plain": [
       "Text(0.5,1,'test')"
      ]
     },
     "execution_count": 303,
     "metadata": {},
     "output_type": "execute_result"
    },
    {
     "data": {
      "image/png": "[encoded data removed]",
      "text/plain": [
       "<Figure size 432x288 with 1 Axes>"
      ]
     },
     "metadata": {},
     "output_type": "display_data"
    }
   ],
   "source": [
    "sns.countplot(x=\"class\", data=df_test)\n",
    "plt.title(\"test\")"
   ]
  },
  {
   "cell_type": "code",
   "execution_count": 304,
   "metadata": {},
   "outputs": [],
   "source": [
    "#50\n",
    "upsampling_minority = 100"
   ]
  },
  {
   "cell_type": "code",
   "execution_count": 305,
   "metadata": {},
   "outputs": [
    {
     "data": {
      "text/plain": [
       "array([  0,   1,   2,   3,   6,   9,  10,  11,  12,  13,  16,  17,  21,\n",
       "        23,  24,  26,  27,  28,  29,  31,  32,  33,  34,  35,  36,  37,\n",
       "        38,  39,  41,  43,  44,  45,  47,  48,  49,  50,  52,  53,  54,\n",
       "        55,  56,  57,  60,  62,  63,  65,  66,  67,  69,  71,  73,  75,\n",
       "        76,  77,  79,  80,  81,  83,  84,  86,  87,  88,  90,  91,  92,\n",
       "        93,  94,  97,  98, 100, 101, 102, 103, 104, 106, 109, 110, 111,\n",
       "       112, 113, 116, 117, 120, 121, 122, 123, 124, 125, 126, 128, 129,\n",
       "       130, 131, 134, 136, 137, 139, 140, 142, 143, 144, 146, 152, 153,\n",
       "       155, 156, 157, 158, 160, 161, 163, 164, 165, 169, 170, 171, 173,\n",
       "       174, 175, 176, 177, 178, 179, 180, 181, 182, 185, 186, 187, 188,\n",
       "       190, 192, 195, 198, 199, 200, 201, 202, 205, 206, 207, 209, 212,\n",
       "       214, 216, 218, 219, 220, 222, 223, 224, 226, 227, 229, 231, 232,\n",
       "       234, 236, 237, 240, 241, 243, 244, 245, 246, 247])"
      ]
     },
     "execution_count": 305,
     "metadata": {},
     "output_type": "execute_result"
    }
   ],
   "source": [
    "np.where(df_train[\"class\"].values==0)[0]"
   ]
  },
  {
   "cell_type": "code",
   "execution_count": 306,
   "metadata": {},
   "outputs": [],
   "source": [
    "majority = df_train.index[df_train[\"class\"]==0]\n",
    "minority = df_train.index[df_train[\"class\"]==1]"
   ]
  },
  {
   "cell_type": "markdown",
   "metadata": {},
   "source": [
    "## check whether each class is truly unique or not"
   ]
  },
  {
   "cell_type": "code",
   "execution_count": 307,
   "metadata": {},
   "outputs": [
    {
     "data": {
      "text/plain": [
       "array([0])"
      ]
     },
     "execution_count": 307,
     "metadata": {},
     "output_type": "execute_result"
    }
   ],
   "source": [
    "df_train.iloc[majority][\"class\"].unique()"
   ]
  },
  {
   "cell_type": "code",
   "execution_count": 308,
   "metadata": {},
   "outputs": [
    {
     "data": {
      "text/plain": [
       "array([1])"
      ]
     },
     "execution_count": 308,
     "metadata": {},
     "output_type": "execute_result"
    }
   ],
   "source": [
    "df_train.iloc[minority][\"class\"].unique()"
   ]
  },
  {
   "cell_type": "code",
   "execution_count": 309,
   "metadata": {},
   "outputs": [
    {
     "data": {
      "text/plain": [
       "(82, 166)"
      ]
     },
     "execution_count": 309,
     "metadata": {},
     "output_type": "execute_result"
    }
   ],
   "source": [
    "len(minority), len(majority)"
   ]
  },
  {
   "cell_type": "code",
   "execution_count": 310,
   "metadata": {},
   "outputs": [],
   "source": [
    "# downsampling majority\n",
    "downsampling_percentage = 100\n",
    "downsampling_multiplier = (100 + downsampling_percentage) / 100\n",
    "majority = np.random.permutation(majority)[:int(np.floor(len(majority)*1/downsampling_multiplier))]"
   ]
  },
  {
   "cell_type": "code",
   "execution_count": 311,
   "metadata": {},
   "outputs": [
    {
     "data": {
      "text/plain": [
       "83"
      ]
     },
     "execution_count": 311,
     "metadata": {},
     "output_type": "execute_result"
    }
   ],
   "source": [
    "len(majority)"
   ]
  },
  {
   "cell_type": "markdown",
   "metadata": {},
   "source": [
    "## check whether each class is truly unique or not"
   ]
  },
  {
   "cell_type": "code",
   "execution_count": 312,
   "metadata": {},
   "outputs": [
    {
     "data": {
      "text/plain": [
       "(array([0]), 83)"
      ]
     },
     "execution_count": 312,
     "metadata": {},
     "output_type": "execute_result"
    }
   ],
   "source": [
    "df_train.iloc[majority][\"class\"].unique(), len(majority)"
   ]
  },
  {
   "cell_type": "code",
   "execution_count": 313,
   "metadata": {},
   "outputs": [],
   "source": [
    "# upsampling minority\n",
    "# 1. state the percentage of upsampling\n",
    "# 2. find their k k-nearest neighbour \n",
    "# 3. randomize between 0 and k (integer)\n",
    "# 4. calculate dif = data[k] - data\n",
    "# 5. state gap = random between 0-1\n",
    "# 6. smoted = data + gap*diff"
   ]
  },
  {
   "cell_type": "markdown",
   "metadata": {},
   "source": [
    "# change the upsampling percentage !!!"
   ]
  },
  {
   "cell_type": "code",
   "execution_count": 314,
   "metadata": {},
   "outputs": [],
   "source": [
    "upsampling_percentage = 100\n",
    "upsampling_multiplier = int(np.floor(100 + downsampling_percentage) / 100)\n",
    "k = 5"
   ]
  },
  {
   "cell_type": "code",
   "execution_count": 315,
   "metadata": {},
   "outputs": [
    {
     "data": {
      "text/plain": [
       "2"
      ]
     },
     "execution_count": 315,
     "metadata": {},
     "output_type": "execute_result"
    }
   ],
   "source": [
    "upsampling_multiplier"
   ]
  },
  {
   "cell_type": "code",
   "execution_count": 316,
   "metadata": {},
   "outputs": [
    {
     "data": {
      "text/plain": [
       "<pandas.core.indexing._iLocIndexer at 0x1a158fa9a8>"
      ]
     },
     "execution_count": 316,
     "metadata": {},
     "output_type": "execute_result"
    }
   ],
   "source": [
    "df_train.iloc"
   ]
  },
  {
   "cell_type": "code",
   "execution_count": 317,
   "metadata": {},
   "outputs": [],
   "source": [
    "#\n",
    "majority_df = df_train.iloc[majority]\n",
    "\n",
    "\n",
    "minority_df = df_train.iloc[minority]\n",
    "minority_y = minority_df.iloc[:,6:7]\n",
    "minority_x = minority_df.iloc[:,:6]\n"
   ]
  },
  {
   "cell_type": "code",
   "execution_count": 318,
   "metadata": {},
   "outputs": [
    {
     "data": {
      "text/plain": [
       "KNeighborsClassifier(algorithm='auto', leaf_size=30, metric='minkowski',\n",
       "           metric_params=None, n_jobs=1, n_neighbors=5, p=2,\n",
       "           weights='uniform')"
      ]
     },
     "execution_count": 318,
     "metadata": {},
     "output_type": "execute_result"
    }
   ],
   "source": [
    "from sklearn.neighbors import KNeighborsClassifier\n",
    "\n",
    "knn = KNeighborsClassifier(n_neighbors=5)\n",
    "knn.fit(minority_x.values, minority_y.values.ravel())"
   ]
  },
  {
   "cell_type": "code",
   "execution_count": 319,
   "metadata": {},
   "outputs": [],
   "source": [
    "nn = knn.kneighbors(minority_x, 6, return_distance=False)[:,1:]"
   ]
  },
  {
   "cell_type": "code",
   "execution_count": 320,
   "metadata": {},
   "outputs": [
    {
     "data": {
      "text/plain": [
       "array([[17, 77, 47, 13, 58],\n",
       "       [ 6, 47, 13, 77,  0],\n",
       "       [36, 80, 56,  5, 12],\n",
       "       [75, 41, 30, 61, 67],\n",
       "       [43, 35, 48, 60, 29],\n",
       "       [58, 77,  0, 17, 36],\n",
       "       [ 1, 47, 37, 13,  0],\n",
       "       [52, 13, 56, 19, 33],\n",
       "       [21, 35, 31, 26, 76],\n",
       "       [45, 41, 75, 18, 51],\n",
       "       [33, 13, 27, 47, 72],\n",
       "       [24, 15, 54, 44, 69],\n",
       "       [56, 36,  2,  7, 13],\n",
       "       [ 0, 33, 47, 37, 17],\n",
       "       [16, 76, 70, 40, 54],\n",
       "       [44, 24, 16, 54, 11],\n",
       "       [14, 15, 70, 44, 76],\n",
       "       [ 0, 61, 41, 77, 42],\n",
       "       [ 9, 31, 74, 45, 34],\n",
       "       [29, 73, 32, 79, 23],\n",
       "       [27, 77,  0, 58, 47],\n",
       "       [ 8, 31,  9, 45, 18],\n",
       "       [ 1, 50, 62, 47,  6],\n",
       "       [73, 40, 79, 51, 76],\n",
       "       [44, 15, 48, 25, 29],\n",
       "       [79, 75, 76, 70,  9],\n",
       "       [33, 73, 34, 60, 31],\n",
       "       [72, 41, 45, 17,  0],\n",
       "       [57, 39, 80, 53, 71],\n",
       "       [48, 19, 73, 79, 43],\n",
       "       [51, 75, 70,  9, 41],\n",
       "       [21, 18,  8, 74, 34],\n",
       "       [34, 64, 79, 19, 73],\n",
       "       [26, 13, 10, 71, 61],\n",
       "       [32, 64, 79, 18, 73],\n",
       "       [65,  8, 59, 76, 60],\n",
       "       [ 2,  5, 12, 56, 80],\n",
       "       [13, 47,  0,  6, 17],\n",
       "       [15, 44, 81, 24, 16],\n",
       "       [57, 28, 69, 80, 81],\n",
       "       [23, 43, 73, 54, 76],\n",
       "       [72, 61, 45,  9, 17],\n",
       "       [67, 61, 17, 57, 71],\n",
       "       [40, 76, 29, 48, 23],\n",
       "       [15, 24, 16, 38, 25],\n",
       "       [ 9, 41, 72, 27, 21],\n",
       "       [74,  8, 31, 21, 18],\n",
       "       [ 0, 77, 13, 37,  1],\n",
       "       [29, 24, 43, 19, 76],\n",
       "       [62, 58,  5, 77,  2],\n",
       "       [27, 72, 63, 47, 20],\n",
       "       [30, 75, 79,  9, 61],\n",
       "       [ 7, 34, 32, 26, 37],\n",
       "       [67, 42, 71, 57, 61],\n",
       "       [16, 15, 40, 11, 14],\n",
       "       [29, 48, 19, 52, 43],\n",
       "       [12,  2, 36, 80, 13],\n",
       "       [80, 71, 42, 67, 53],\n",
       "       [ 5, 77, 17,  0, 27],\n",
       "       [76, 35, 25, 34,  8],\n",
       "       [26, 35,  8, 43, 76],\n",
       "       [67, 41, 17, 42, 72],\n",
       "       [49, 58, 77,  5, 22],\n",
       "       [27, 47, 72,  0, 61],\n",
       "       [32, 34,  9, 79, 41],\n",
       "       [35, 59,  8, 46, 25],\n",
       "       [69, 71, 19, 53, 57],\n",
       "       [42, 61, 71, 17, 41],\n",
       "       [37,  5,  0, 36, 17],\n",
       "       [66, 40, 11, 54, 19],\n",
       "       [30, 16, 25, 51, 75],\n",
       "       [67, 57, 42, 53, 61],\n",
       "       [41, 27, 45,  9, 61],\n",
       "       [79, 23, 76, 19, 29],\n",
       "       [18, 31, 45,  9, 46],\n",
       "       [30, 51,  9,  3, 79],\n",
       "       [73, 79, 14, 25, 23],\n",
       "       [ 0, 58, 47,  5, 17],\n",
       "       [47, 37,  1, 50,  6],\n",
       "       [73, 76, 32, 51, 23],\n",
       "       [57, 42,  2, 71, 67],\n",
       "       [ 3, 15, 38, 54, 75]])"
      ]
     },
     "execution_count": 320,
     "metadata": {},
     "output_type": "execute_result"
    }
   ],
   "source": [
    "nn"
   ]
  },
  {
   "cell_type": "code",
   "execution_count": 321,
   "metadata": {},
   "outputs": [],
   "source": [
    "# shuffle only works on first axis, so we have to transpose it\n",
    "# shuffle returns in-place\n",
    "np.random.shuffle(nn.T)"
   ]
  },
  {
   "cell_type": "code",
   "execution_count": 322,
   "metadata": {},
   "outputs": [
    {
     "data": {
      "text/plain": [
       "array([[17, 58, 13, 77, 47],\n",
       "       [ 6,  0, 77, 47, 13],\n",
       "       [36, 12,  5, 80, 56],\n",
       "       [75, 67, 61, 41, 30],\n",
       "       [43, 29, 60, 35, 48],\n",
       "       [58, 36, 17, 77,  0],\n",
       "       [ 1,  0, 13, 47, 37],\n",
       "       [52, 33, 19, 13, 56],\n",
       "       [21, 76, 26, 35, 31],\n",
       "       [45, 51, 18, 41, 75],\n",
       "       [33, 72, 47, 13, 27],\n",
       "       [24, 69, 44, 15, 54],\n",
       "       [56, 13,  7, 36,  2],\n",
       "       [ 0, 17, 37, 33, 47],\n",
       "       [16, 54, 40, 76, 70],\n",
       "       [44, 11, 54, 24, 16],\n",
       "       [14, 76, 44, 15, 70],\n",
       "       [ 0, 42, 77, 61, 41],\n",
       "       [ 9, 34, 45, 31, 74],\n",
       "       [29, 23, 79, 73, 32],\n",
       "       [27, 47, 58, 77,  0],\n",
       "       [ 8, 18, 45, 31,  9],\n",
       "       [ 1,  6, 47, 50, 62],\n",
       "       [73, 76, 51, 40, 79],\n",
       "       [44, 29, 25, 15, 48],\n",
       "       [79,  9, 70, 75, 76],\n",
       "       [33, 31, 60, 73, 34],\n",
       "       [72,  0, 17, 41, 45],\n",
       "       [57, 71, 53, 39, 80],\n",
       "       [48, 43, 79, 19, 73],\n",
       "       [51, 41,  9, 75, 70],\n",
       "       [21, 34, 74, 18,  8],\n",
       "       [34, 73, 19, 64, 79],\n",
       "       [26, 61, 71, 13, 10],\n",
       "       [32, 73, 18, 64, 79],\n",
       "       [65, 60, 76,  8, 59],\n",
       "       [ 2, 80, 56,  5, 12],\n",
       "       [13, 17,  6, 47,  0],\n",
       "       [15, 16, 24, 44, 81],\n",
       "       [57, 81, 80, 28, 69],\n",
       "       [23, 76, 54, 43, 73],\n",
       "       [72, 17,  9, 61, 45],\n",
       "       [67, 71, 57, 61, 17],\n",
       "       [40, 23, 48, 76, 29],\n",
       "       [15, 25, 38, 24, 16],\n",
       "       [ 9, 21, 27, 41, 72],\n",
       "       [74, 18, 21,  8, 31],\n",
       "       [ 0,  1, 37, 77, 13],\n",
       "       [29, 76, 19, 24, 43],\n",
       "       [62,  2, 77, 58,  5],\n",
       "       [27, 20, 47, 72, 63],\n",
       "       [30, 61,  9, 75, 79],\n",
       "       [ 7, 37, 26, 34, 32],\n",
       "       [67, 61, 57, 42, 71],\n",
       "       [16, 14, 11, 15, 40],\n",
       "       [29, 43, 52, 48, 19],\n",
       "       [12, 13, 80,  2, 36],\n",
       "       [80, 53, 67, 71, 42],\n",
       "       [ 5, 27,  0, 77, 17],\n",
       "       [76,  8, 34, 35, 25],\n",
       "       [26, 76, 43, 35,  8],\n",
       "       [67, 72, 42, 41, 17],\n",
       "       [49, 22,  5, 58, 77],\n",
       "       [27, 61,  0, 47, 72],\n",
       "       [32, 41, 79, 34,  9],\n",
       "       [35, 25, 46, 59,  8],\n",
       "       [69, 57, 53, 71, 19],\n",
       "       [42, 41, 17, 61, 71],\n",
       "       [37, 17, 36,  5,  0],\n",
       "       [66, 19, 54, 40, 11],\n",
       "       [30, 75, 51, 16, 25],\n",
       "       [67, 61, 53, 57, 42],\n",
       "       [41, 61,  9, 27, 45],\n",
       "       [79, 29, 19, 23, 76],\n",
       "       [18, 46,  9, 31, 45],\n",
       "       [30, 79,  3, 51,  9],\n",
       "       [73, 23, 25, 79, 14],\n",
       "       [ 0, 17,  5, 58, 47],\n",
       "       [47,  6, 50, 37,  1],\n",
       "       [73, 23, 51, 76, 32],\n",
       "       [57, 67, 71, 42,  2],\n",
       "       [ 3, 75, 54, 15, 38]])"
      ]
     },
     "execution_count": 322,
     "metadata": {},
     "output_type": "execute_result"
    }
   ],
   "source": [
    "nn"
   ]
  },
  {
   "cell_type": "code",
   "execution_count": 323,
   "metadata": {},
   "outputs": [],
   "source": [
    "nn = nn[:,0]"
   ]
  },
  {
   "cell_type": "code",
   "execution_count": 324,
   "metadata": {},
   "outputs": [
    {
     "data": {
      "text/plain": [
       "array([17,  6, 36, 75, 43, 58,  1, 52, 21, 45, 33, 24, 56,  0, 16, 44, 14,\n",
       "        0,  9, 29, 27,  8,  1, 73, 44, 79, 33, 72, 57, 48, 51, 21, 34, 26,\n",
       "       32, 65,  2, 13, 15, 57, 23, 72, 67, 40, 15,  9, 74,  0, 29, 62, 27,\n",
       "       30,  7, 67, 16, 29, 12, 80,  5, 76, 26, 67, 49, 27, 32, 35, 69, 42,\n",
       "       37, 66, 30, 67, 41, 79, 18, 30, 73,  0, 47, 73, 57,  3])"
      ]
     },
     "execution_count": 324,
     "metadata": {},
     "output_type": "execute_result"
    }
   ],
   "source": [
    "nn"
   ]
  },
  {
   "cell_type": "code",
   "execution_count": 325,
   "metadata": {},
   "outputs": [],
   "source": [
    "og = np.arange(len(nn))"
   ]
  },
  {
   "cell_type": "code",
   "execution_count": 326,
   "metadata": {},
   "outputs": [
    {
     "data": {
      "text/plain": [
       "array([ 0,  1,  2,  3,  4,  5,  6,  7,  8,  9, 10, 11, 12, 13, 14, 15, 16,\n",
       "       17, 18, 19, 20, 21, 22, 23, 24, 25, 26, 27, 28, 29, 30, 31, 32, 33,\n",
       "       34, 35, 36, 37, 38, 39, 40, 41, 42, 43, 44, 45, 46, 47, 48, 49, 50,\n",
       "       51, 52, 53, 54, 55, 56, 57, 58, 59, 60, 61, 62, 63, 64, 65, 66, 67,\n",
       "       68, 69, 70, 71, 72, 73, 74, 75, 76, 77, 78, 79, 80, 81])"
      ]
     },
     "execution_count": 326,
     "metadata": {},
     "output_type": "execute_result"
    }
   ],
   "source": [
    "og"
   ]
  },
  {
   "cell_type": "code",
   "execution_count": 327,
   "metadata": {},
   "outputs": [],
   "source": [
    "diff = (minority_x.iloc[og].values - minority_x.iloc[nn].values)[:,:minority_x.shape[1]]"
   ]
  },
  {
   "cell_type": "code",
   "execution_count": 328,
   "metadata": {},
   "outputs": [
    {
     "data": {
      "text/plain": [
       "array([[ 9.75045761e-02,  2.56945100e-01,  2.00928079e-01,\n",
       "         1.19991630e-03, -8.68563619e-03,  6.85954289e-03],\n",
       "       [-1.06751315e-01, -1.80516281e-01,  1.85562141e-01,\n",
       "        -2.04678666e-03, -3.44408890e-01,  4.39109476e-01],\n",
       "       [ 1.90608393e-01,  8.54582438e-03,  6.28172291e-01,\n",
       "         2.41789458e-01, -2.09307629e-01,  3.41724756e-01],\n",
       "       [ 1.96972513e-01, -2.12698644e-01, -3.04174955e-02,\n",
       "         4.17990439e-01, -3.00123353e-01, -4.92120782e-02],\n",
       "       [-4.10138968e-01,  3.99648999e-01, -3.30992978e-01,\n",
       "        -8.37532723e-01,  5.01773883e-01, -4.18375724e-01],\n",
       "       [ 2.07895272e-01,  2.06718725e-01, -3.50567816e-02,\n",
       "         1.13904827e-01,  3.23324765e-01, -2.89056191e-02],\n",
       "       [ 1.06751315e-01,  1.80516281e-01, -1.85562141e-01,\n",
       "         2.04678666e-03,  3.44408890e-01, -4.39109476e-01],\n",
       "       [-4.48574581e-01, -1.43673926e-01,  4.57259998e-01,\n",
       "         4.57443492e-01, -2.95561540e-03,  3.28082017e-01],\n",
       "       [-2.41871786e-01,  6.92318778e-02,  1.08585053e-01,\n",
       "        -3.67590799e-01,  9.43735415e-02, -3.16773791e-02],\n",
       "       [-5.83038451e-02, -7.85358492e-02, -8.10961182e-02,\n",
       "        -1.63390845e-02,  2.50610097e-01, -1.01753825e-01],\n",
       "       [-1.30848966e-01,  1.16714767e-01, -1.00143775e-01,\n",
       "         4.48705375e-01, -6.46602679e-01,  9.42555756e-02],\n",
       "       [-1.71883558e-01, -6.39161300e-01,  3.63503406e-01,\n",
       "         2.61200218e-01,  3.27471333e-01, -3.55493889e-02],\n",
       "       [ 3.02110303e-01,  2.77586367e-01, -3.80047686e-01,\n",
       "         1.82839415e-01,  3.24270277e-01,  1.39689806e-04],\n",
       "       [-3.46681397e-01,  1.86711577e-01,  2.55253893e-01,\n",
       "        -1.24773613e-01,  3.70654525e-01, -2.89634642e-02],\n",
       "       [ 4.74256445e-02,  2.45790253e-01,  3.45233529e-01,\n",
       "        -1.24766408e-01,  3.19739176e-03, -1.03569450e-01],\n",
       "       [ 5.67908987e-02, -1.05068488e-01,  2.17407968e-01,\n",
       "         1.53713232e-01, -8.91947573e-02,  3.50739521e-02],\n",
       "       [-4.74256445e-02, -2.45790253e-01, -3.45233529e-01,\n",
       "         1.24766408e-01, -3.19739176e-03,  1.03569450e-01],\n",
       "       [-9.75045761e-02, -2.56945100e-01, -2.00928079e-01,\n",
       "        -1.19991630e-03,  8.68563619e-03, -6.85954289e-03],\n",
       "       [-1.51391027e-02,  3.32957014e-01, -3.50596190e-01,\n",
       "        -2.72413963e-01,  1.73117172e-01, -3.13660708e-02],\n",
       "       [ 2.77783147e-01, -5.05042507e-02,  1.99725695e-01,\n",
       "         4.00153654e-01, -1.36660570e-01,  2.25996356e-01],\n",
       "       [ 3.98026452e-01,  3.50641584e-01, -1.44694905e-01,\n",
       "         2.52329541e-01, -5.56938679e-02, -4.28641355e-01],\n",
       "       [ 2.41871786e-01, -6.92318778e-02, -1.08585053e-01,\n",
       "         3.67590799e-01, -9.43735415e-02,  3.16773791e-02],\n",
       "       [ 3.28953163e-01, -2.46407055e-01,  5.41098944e-01,\n",
       "         4.13356445e-02, -1.20138446e+00, -3.42048328e-01],\n",
       "       [-7.85828771e-02, -1.72644342e-01,  2.34774450e-01,\n",
       "         2.86694211e-02, -7.20500633e-02,  2.23559021e-01],\n",
       "       [ 3.10883025e-01,  1.87454247e-01,  7.77489802e-02,\n",
       "         2.62671189e-01,  2.45204516e-01,  2.71118214e-02],\n",
       "       [-1.78634028e-01, -8.67099447e-03, -4.37698245e-01,\n",
       "        -2.26097362e-01, -3.45809056e-01,  1.82436349e-01],\n",
       "       [ 3.01219014e-02, -1.49029535e-02, -3.25755159e-01,\n",
       "        -4.77667258e-01,  2.70040918e-01, -1.35583750e-02],\n",
       "       [ 2.03159309e-01,  3.06339618e-01,  6.82918822e-02,\n",
       "         3.21296801e-02, -8.08994167e-03,  6.07532720e-02],\n",
       "       [ 3.44914546e-01, -1.17934501e+00,  2.71462633e-01,\n",
       "        -2.45772632e-02, -4.03535147e-01, -7.28148883e-02],\n",
       "       [ 1.61544312e-01,  9.53947149e-02,  2.72039864e-01,\n",
       "         1.38019137e-01, -1.26307395e-01, -1.60762136e-02],\n",
       "       [-6.57916353e-02, -1.53342020e-01, -6.06378891e-02,\n",
       "         3.06812168e-02, -2.03278388e-01,  2.01814532e-02],\n",
       "       [ 2.41471222e-01,  4.41205784e-01, -1.62877579e-01,\n",
       "        -2.03229206e-02,  2.23148515e-01, -1.80703555e-01],\n",
       "       [-1.75559350e-02, -2.35451192e-01, -9.45462100e-02,\n",
       "         1.55826192e-01,  1.44517666e-01,  2.07913228e-02],\n",
       "       [-3.01219014e-02,  1.49029535e-02,  3.25755159e-01,\n",
       "         4.77667258e-01, -2.70040918e-01,  1.35583750e-02],\n",
       "       [ 1.75559350e-02,  2.35451192e-01,  9.45462100e-02,\n",
       "        -1.55826192e-01, -1.44517666e-01, -2.07913228e-02],\n",
       "       [ 8.00981189e-02,  4.86443660e-02,  6.03342753e-01,\n",
       "         6.74128844e-02,  1.97010967e-01,  1.65409152e-02],\n",
       "       [-1.90608393e-01, -8.54582438e-03, -6.28172291e-01,\n",
       "        -2.41789458e-01,  2.09307629e-01, -3.41724756e-01],\n",
       "       [ 3.82895467e-01,  3.75266366e-01, -2.94868580e-01,\n",
       "        -3.23766402e-01, -1.32359373e-02, -1.25592617e-01],\n",
       "       [-1.00629993e-01, -2.97714406e-01, -5.66450571e-01,\n",
       "         9.48729246e-02, -5.07947670e-01,  2.61751421e-01],\n",
       "       [-2.81103928e-01, -8.89731812e-01, -5.97217792e-01,\n",
       "         3.09104400e-01,  3.63560858e-01, -2.04238067e-01],\n",
       "       [-3.65889353e-01, -2.40455727e-01,  1.92357253e-01,\n",
       "        -2.94094198e-01,  2.17747170e-01,  3.58416387e-02],\n",
       "       [ 1.33587107e-02, -5.11262974e-02, -1.40308021e-01,\n",
       "         5.62020997e-02,  3.21967176e-01,  6.23311388e-02],\n",
       "       [ 1.10913030e-01,  3.44546663e-02,  5.49412234e-02,\n",
       "         1.18319709e-01, -4.00573061e-03,  1.70104197e-01],\n",
       "       [-2.31528202e-02,  2.84851132e-01, -4.58504445e-01,\n",
       "        -2.46342642e-01,  2.72821019e-01,  1.95870962e-01],\n",
       "       [-5.67908987e-02,  1.05068488e-01, -2.17407968e-01,\n",
       "        -1.53713232e-01,  8.91947573e-02, -3.50739521e-02],\n",
       "       [ 5.83038451e-02,  7.85358492e-02,  8.10961182e-02,\n",
       "         1.63390845e-02, -2.50610097e-01,  1.01753825e-01],\n",
       "       [-5.54327185e-01,  1.07240208e-01,  1.22354730e-01,\n",
       "        -8.03422816e-01, -4.41909709e-02,  3.65031658e-03],\n",
       "       [ 4.17296115e-02,  2.58061051e-01,  3.25333229e-01,\n",
       "        -2.10700867e-01, -1.68075908e-01,  4.60634361e-02],\n",
       "       [-1.61544312e-01, -9.53947149e-02, -2.72039864e-01,\n",
       "        -1.38019137e-01,  1.26307395e-01,  1.60762136e-02],\n",
       "       [ 2.41156367e-02, -8.08241748e-02, -2.65409598e-01,\n",
       "         9.27523676e-02,  1.71613968e-02,  2.65478168e-02],\n",
       "       [ 2.16130651e-01,  1.11881045e-01,  4.40682477e-01,\n",
       "        -2.04307066e-01, -5.73945289e-01, -5.05878780e-02],\n",
       "       [ 6.57916353e-02,  1.53342020e-01,  6.06378891e-02,\n",
       "        -3.06812168e-02,  2.03278388e-01, -2.01814532e-02],\n",
       "       [ 4.48574581e-01,  1.43673926e-01, -4.57259998e-01,\n",
       "        -4.57443492e-01,  2.95561540e-03, -3.28082017e-01],\n",
       "       [ 4.67471593e-01, -2.80913288e-01,  6.03704761e-02,\n",
       "        -2.78670415e-01,  5.46139668e-01,  1.58066281e-02],\n",
       "       [ 1.19457486e-01, -3.98939075e-01,  3.70059164e-01,\n",
       "         4.58369405e-01,  2.24107736e-01, -3.82146766e-02],\n",
       "       [ 9.61677329e-02,  2.22670958e-01,  4.64252832e-01,\n",
       "        -4.37316664e-02,  7.86605909e-01, -1.55400198e-01],\n",
       "       [-3.02110303e-01, -2.77586367e-01,  3.80047686e-01,\n",
       "        -1.82839415e-01, -3.24270277e-01, -1.39689806e-04],\n",
       "       [-2.80181432e-01, -1.87255533e-01, -1.27233737e-01,\n",
       "        -2.22831920e-01,  1.35134960e-01, -1.03118062e-01],\n",
       "       [-2.07895272e-01, -2.06718725e-01,  3.50567816e-02,\n",
       "        -1.13904827e-01, -3.23324765e-01,  2.89056191e-02],\n",
       "       [-3.50111467e-01,  7.45727991e-01, -3.02785437e-01,\n",
       "         1.65467824e-01,  2.18393914e-02, -1.01988807e-01],\n",
       "       [-5.08241501e-01, -1.25199763e-01,  2.25611385e-01,\n",
       "        -5.66986149e-01,  2.21326837e-01, -1.08219003e-01],\n",
       "       [ 7.51149289e-02,  2.54243819e-01, -2.16521409e-01,\n",
       "        -9.51157388e-02, -6.63713997e-02, -4.54182041e-02],\n",
       "       [-2.41156367e-02,  8.08241748e-02,  2.65409598e-01,\n",
       "        -9.27523676e-02, -1.71613968e-02, -2.65478168e-02],\n",
       "       [ 2.16130651e-01, -2.89254023e-01,  5.05644221e-01,\n",
       "        -4.86825543e-01,  2.74082282e-01, -2.46959376e-01],\n",
       "       [ 1.19634052e-02, -1.14170691e-02,  9.45462100e-02,\n",
       "         2.42477045e-02, -3.45161004e-01,  3.23732790e-01],\n",
       "       [-8.00981189e-02, -4.86443660e-02, -6.03342753e-01,\n",
       "        -6.74128844e-02, -1.97010967e-01, -1.65409152e-02],\n",
       "       [ 4.78545071e-01,  3.77836821e-01,  2.98608896e-01,\n",
       "         3.36568762e-01, -1.60923036e-01,  5.11653914e-01],\n",
       "       [-1.10913030e-01, -3.44546663e-02, -5.49412234e-02,\n",
       "        -1.18319709e-01,  4.00573061e-03, -1.70104197e-01],\n",
       "       [ 2.96927885e-01, -1.80989617e-01, -7.84140226e-01,\n",
       "         5.24121128e-01,  2.43181825e-01,  1.12673688e-01],\n",
       "       [-4.78545071e-01, -3.77836821e-01, -2.98608896e-01,\n",
       "        -3.36568762e-01,  1.60923036e-01, -5.11653914e-01],\n",
       "       [-3.45833486e-01, -1.69368648e-01, -2.48829512e-01,\n",
       "        -3.21921494e-01, -5.47039729e-02,  4.50498714e-02],\n",
       "       [-9.09716935e-02, -5.38579762e-02,  5.43573963e-01,\n",
       "        -7.76193387e-02,  2.54380100e-01, -1.06689971e-01],\n",
       "       [-1.33587107e-02,  5.11262974e-02,  1.40308021e-01,\n",
       "        -5.62020997e-02, -3.21967176e-01, -6.23311388e-02],\n",
       "       [-3.13680788e-02,  6.01275141e-02,  3.02835374e-01,\n",
       "        -8.64914301e-02,  1.59104729e-01,  4.56324378e-02],\n",
       "       [ 2.41071430e-01,  4.01299860e-01,  6.62658643e-02,\n",
       "         9.44256742e-03, -5.31909013e-01, -6.22511233e-02],\n",
       "       [ 1.21272023e-01, -1.20314662e-02, -3.26997069e-01,\n",
       "         1.67092946e-01,  1.52817566e-01,  3.77593016e-02],\n",
       "       [-3.14055624e-01, -4.68371557e-02, -2.50293966e-01,\n",
       "        -3.73523676e-01, -1.63144475e-01,  1.02612685e-01],\n",
       "       [ 1.63690353e-01, -1.81064737e-02,  1.32976633e-01,\n",
       "         1.57752791e-01, -2.88194475e-01, -9.18849365e-02],\n",
       "       [ 8.71730051e-02,  7.71297846e-01, -6.98859868e-02,\n",
       "        -4.71822995e-01, -3.14468023e-01,  6.99986885e-02],\n",
       "       [ 3.13680788e-02, -6.01275141e-02, -3.02835374e-01,\n",
       "         8.64914301e-02, -1.59104729e-01, -4.56324378e-02],\n",
       "       [ 2.80181432e-01,  1.87255533e-01,  1.27233737e-01,\n",
       "         2.22831920e-01, -1.35134960e-01,  1.03118062e-01],\n",
       "       [-6.02196194e-01, -7.84553183e-01, -2.18105670e-01,\n",
       "        -1.88955773e-01,  2.06729489e-01, -1.58912499e-01]])"
      ]
     },
     "execution_count": 328,
     "metadata": {},
     "output_type": "execute_result"
    }
   ],
   "source": [
    "diff "
   ]
  },
  {
   "cell_type": "markdown",
   "metadata": {},
   "source": [
    "# change the upsampling multiplier"
   ]
  },
  {
   "cell_type": "code",
   "execution_count": 329,
   "metadata": {},
   "outputs": [],
   "source": [
    "gap = np.random.random_sample((len(nn),int(np.floor(upsampling_multiplier-1))))\n",
    "gap = gap.reshape(upsampling_multiplier-1,len(nn),1)"
   ]
  },
  {
   "cell_type": "code",
   "execution_count": 330,
   "metadata": {},
   "outputs": [
    {
     "data": {
      "text/plain": [
       "(1, 82, 1)"
      ]
     },
     "execution_count": 330,
     "metadata": {},
     "output_type": "execute_result"
    }
   ],
   "source": [
    "gap.shape"
   ]
  },
  {
   "cell_type": "code",
   "execution_count": 331,
   "metadata": {},
   "outputs": [
    {
     "data": {
      "text/plain": [
       "(82, 6)"
      ]
     },
     "execution_count": 331,
     "metadata": {},
     "output_type": "execute_result"
    }
   ],
   "source": [
    "diff.shape"
   ]
  },
  {
   "cell_type": "code",
   "execution_count": 332,
   "metadata": {},
   "outputs": [],
   "source": [
    "smoted = minority_x.iloc[og].values + (gap*diff)\n",
    "smoted = smoted.reshape((upsampling_multiplier-1)*len(nn),smoted.shape[2])"
   ]
  },
  {
   "cell_type": "code",
   "execution_count": 333,
   "metadata": {},
   "outputs": [
    {
     "data": {
      "text/plain": [
       "(82, 6)"
      ]
     },
     "execution_count": 333,
     "metadata": {},
     "output_type": "execute_result"
    }
   ],
   "source": [
    "smoted.shape"
   ]
  },
  {
   "cell_type": "code",
   "execution_count": 334,
   "metadata": {},
   "outputs": [
    {
     "data": {
      "text/plain": [
       "(82, 6)"
      ]
     },
     "execution_count": 334,
     "metadata": {},
     "output_type": "execute_result"
    }
   ],
   "source": [
    "smoted.shape"
   ]
  },
  {
   "cell_type": "code",
   "execution_count": 335,
   "metadata": {},
   "outputs": [],
   "source": [
    "smoted = np.c_[smoted, np.ones(smoted.shape[0])]\n",
    "smoted = np.r_[majority_df.values, minority_df.values, smoted]"
   ]
  },
  {
   "cell_type": "code",
   "execution_count": 336,
   "metadata": {},
   "outputs": [],
   "source": [
    "smoted = pd.DataFrame(smoted, columns=list(df))"
   ]
  },
  {
   "cell_type": "code",
   "execution_count": 337,
   "metadata": {},
   "outputs": [
    {
     "data": {
      "text/plain": [
       "<matplotlib.axes._subplots.AxesSubplot at 0x1a15cd8c88>"
      ]
     },
     "execution_count": 337,
     "metadata": {},
     "output_type": "execute_result"
    },
    {
     "data": {
      "image/png": "[encoded data removed]",
      "text/plain": [
       "<Figure size 432x288 with 1 Axes>"
      ]
     },
     "metadata": {},
     "output_type": "display_data"
    }
   ],
   "source": [
    "sns.countplot(x=\"class\", data=smoted)"
   ]
  },
  {
   "cell_type": "code",
   "execution_count": 338,
   "metadata": {},
   "outputs": [],
   "source": [
    "smoted.to_csv(\"smoted.csv\")\n",
    "df_test.to_csv(\"test.csv\")"
   ]
  }
 ],
 "metadata": {
  "kernelspec": {
   "display_name": "Python 3",
   "language": "python",
   "name": "python3"
  },
  "language_info": {
   "codemirror_mode": {
    "name": "ipython",
    "version": 3
   },
   "file_extension": ".py",
   "mimetype": "text/x-python",
   "name": "python",
   "nbconvert_exporter": "python",
   "pygments_lexer": "ipython3",
   "version": "3.6.5"
  }
 },
 "nbformat": 4,
 "nbformat_minor": 2
}
