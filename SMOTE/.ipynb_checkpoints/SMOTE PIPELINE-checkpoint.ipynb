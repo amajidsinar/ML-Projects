{
 "cells": [
  {
   "cell_type": "code",
   "execution_count": 47,
   "metadata": {},
   "outputs": [],
   "source": [
    "import pandas as pd\n",
    "import matplotlib.pyplot as plt\n",
    "import seaborn as sns\n",
    "import numpy as np"
   ]
  },
  {
   "cell_type": "code",
   "execution_count": 48,
   "metadata": {},
   "outputs": [],
   "source": [
    "df = pd.read_csv(\"orthopedi_biomechanical.csv\")"
   ]
  },
  {
   "cell_type": "code",
   "execution_count": 49,
   "metadata": {},
   "outputs": [
    {
     "data": {
      "text/html": [
       "<div>\n",
       "<style scoped>\n",
       "    .dataframe tbody tr th:only-of-type {\n",
       "        vertical-align: middle;\n",
       "    }\n",
       "\n",
       "    .dataframe tbody tr th {\n",
       "        vertical-align: top;\n",
       "    }\n",
       "\n",
       "    .dataframe thead th {\n",
       "        text-align: right;\n",
       "    }\n",
       "</style>\n",
       "<table border=\"1\" class=\"dataframe\">\n",
       "  <thead>\n",
       "    <tr style=\"text-align: right;\">\n",
       "      <th></th>\n",
       "      <th>pelvic_incidence</th>\n",
       "      <th>pelvic_tilt numeric</th>\n",
       "      <th>lumbar_lordosis_angle</th>\n",
       "      <th>sacral_slope</th>\n",
       "      <th>pelvic_radius</th>\n",
       "      <th>degree_spondylolisthesis</th>\n",
       "      <th>class</th>\n",
       "    </tr>\n",
       "  </thead>\n",
       "  <tbody>\n",
       "    <tr>\n",
       "      <th>0</th>\n",
       "      <td>0.128992</td>\n",
       "      <td>0.498719</td>\n",
       "      <td>-0.681174</td>\n",
       "      <td>-0.192038</td>\n",
       "      <td>-1.446647</td>\n",
       "      <td>-0.708059</td>\n",
       "      <td>0</td>\n",
       "    </tr>\n",
       "    <tr>\n",
       "      <th>1</th>\n",
       "      <td>-1.277491</td>\n",
       "      <td>-0.759197</td>\n",
       "      <td>-1.473505</td>\n",
       "      <td>-1.069354</td>\n",
       "      <td>-0.262969</td>\n",
       "      <td>-0.579556</td>\n",
       "      <td>0</td>\n",
       "    </tr>\n",
       "    <tr>\n",
       "      <th>2</th>\n",
       "      <td>0.469551</td>\n",
       "      <td>0.465075</td>\n",
       "      <td>-0.112021</td>\n",
       "      <td>0.277089</td>\n",
       "      <td>-0.896493</td>\n",
       "      <td>-0.795421</td>\n",
       "      <td>0</td>\n",
       "    </tr>\n",
       "    <tr>\n",
       "      <th>3</th>\n",
       "      <td>0.496834</td>\n",
       "      <td>0.710221</td>\n",
       "      <td>-0.425884</td>\n",
       "      <td>0.126575</td>\n",
       "      <td>-1.206219</td>\n",
       "      <td>-0.402288</td>\n",
       "      <td>0</td>\n",
       "    </tr>\n",
       "    <tr>\n",
       "      <th>4</th>\n",
       "      <td>-0.652259</td>\n",
       "      <td>-0.800376</td>\n",
       "      <td>-1.294229</td>\n",
       "      <td>-0.223713</td>\n",
       "      <td>-0.732204</td>\n",
       "      <td>-0.490106</td>\n",
       "      <td>0</td>\n",
       "    </tr>\n",
       "  </tbody>\n",
       "</table>\n",
       "</div>"
      ],
      "text/plain": [
       "   pelvic_incidence  pelvic_tilt numeric  lumbar_lordosis_angle  sacral_slope  \\\n",
       "0          0.128992             0.498719              -0.681174     -0.192038   \n",
       "1         -1.277491            -0.759197              -1.473505     -1.069354   \n",
       "2          0.469551             0.465075              -0.112021      0.277089   \n",
       "3          0.496834             0.710221              -0.425884      0.126575   \n",
       "4         -0.652259            -0.800376              -1.294229     -0.223713   \n",
       "\n",
       "   pelvic_radius  degree_spondylolisthesis  class  \n",
       "0      -1.446647                 -0.708059      0  \n",
       "1      -0.262969                 -0.579556      0  \n",
       "2      -0.896493                 -0.795421      0  \n",
       "3      -1.206219                 -0.402288      0  \n",
       "4      -0.732204                 -0.490106      0  "
      ]
     },
     "execution_count": 49,
     "metadata": {},
     "output_type": "execute_result"
    }
   ],
   "source": [
    "df.head()"
   ]
  },
  {
   "cell_type": "code",
   "execution_count": 50,
   "metadata": {},
   "outputs": [],
   "source": [
    "X = df.iloc[:,:6]\n",
    "y = df.iloc[:,6:7]\n",
    "\n",
    "from sklearn.model_selection import train_test_split\n",
    "\n",
    "df_train, df_test = train_test_split(df, test_size=0.2, random_state=69)"
   ]
  },
  {
   "cell_type": "code",
   "execution_count": 51,
   "metadata": {},
   "outputs": [],
   "source": [
    "df_train = df_train.reset_index(drop=True)\n",
    "df_test = df_test.reset_index(drop=True)"
   ]
  },
  {
   "cell_type": "code",
   "execution_count": 52,
   "metadata": {},
   "outputs": [
    {
     "data": {
      "text/plain": [
       "(248, 62)"
      ]
     },
     "execution_count": 52,
     "metadata": {},
     "output_type": "execute_result"
    }
   ],
   "source": [
    "len(df_train), len(df_test)"
   ]
  },
  {
   "cell_type": "code",
   "execution_count": 53,
   "metadata": {},
   "outputs": [
    {
     "data": {
      "text/plain": [
       "Text(0.5,1,'train')"
      ]
     },
     "execution_count": 53,
     "metadata": {},
     "output_type": "execute_result"
    },
    {
     "data": {
      "image/png": "[encoded data removed]",
      "text/plain": [
       "<Figure size 432x288 with 1 Axes>"
      ]
     },
     "metadata": {},
     "output_type": "display_data"
    }
   ],
   "source": [
    "sns.countplot(x=\"class\", data=df_train)\n",
    "plt.title(\"train\")"
   ]
  },
  {
   "cell_type": "code",
   "execution_count": 54,
   "metadata": {},
   "outputs": [
    {
     "data": {
      "text/plain": [
       "Text(0.5,1,'test')"
      ]
     },
     "execution_count": 54,
     "metadata": {},
     "output_type": "execute_result"
    },
    {
     "data": {
      "image/png": "[encoded data removed]",
      "text/plain": [
       "<Figure size 432x288 with 1 Axes>"
      ]
     },
     "metadata": {},
     "output_type": "display_data"
    }
   ],
   "source": [
    "sns.countplot(x=\"class\", data=df_test)\n",
    "plt.title(\"test\")"
   ]
  },
  {
   "cell_type": "code",
   "execution_count": 81,
   "metadata": {},
   "outputs": [],
   "source": [
    "from sklearn.base import TransformerMixin, BaseEstimator\n",
    "from sklearn.neighbors import KNeighborsClassifier\n",
    "\n",
    "class SMOTE(BaseEstimator, TransformerMixin):\n",
    "    \"\"\"\n",
    "    params:\n",
    "    predictor_idx = index of predictor\n",
    "    target_idx = index of target\n",
    "    downsampling_percentage = percentage of downsampling (e.g = 100, 200)\n",
    "    upsampling_percentage = percentage of upsampling (e.g = 100, 200)\n",
    "    k = number of k neighbours\n",
    "    \"\"\"\n",
    "    def __init__(self, predictor_idx, target_idx, downsampling_percentage, upsampling_percentage, k):\n",
    "        self.predictor_idx = predictor_idx\n",
    "        self.target_idx = target_idx\n",
    "        self.downsampling_percentage = downsampling_percentage\n",
    "        self.upsampling_percentage = upsampling_percentage\n",
    "        self.k = k\n",
    "    def fit(self, X, y=None):\n",
    "        return self\n",
    "    def transform(self, X):\n",
    "        #set majority and minority\n",
    "        predictor = X.iloc[:, self.predictor_idx]\n",
    "        target = X.iloc[:, self.target_idx]\n",
    "        majority = np.where(target.values==0)[0]\n",
    "        minority = np.where(target.values==1)[0]\n",
    "        #downsample the majority\n",
    "        downsampling_multiplier = (100 + self.downsampling_percentage) / 100\n",
    "        majority = np.random.permutation(majority)[:int(np.floor(len(majority)*1/downsampling_multiplier))]\n",
    "        #setting the upsampling\n",
    "        upsampling_multiplier = int(np.floor(100 + self.upsampling_percentage) / 100)\n",
    "        majority_df = X.iloc[majority]\n",
    "        minority_df = X.iloc[minority]\n",
    "        #set the index according to the dataset\n",
    "        minority_y = minority_df.iloc[:,6:]\n",
    "        minority_x = minority_df.iloc[:,:6]\n",
    "        # fit\n",
    "        knn = KNeighborsClassifier(n_neighbors=self.k)\n",
    "        knn.fit(minority_x.values, minority_y.values.ravel())\n",
    "        # create matrix of nearest neighbours\n",
    "        nn = knn.kneighbors(minority_x, (self.k)+1, return_distance=False)[:,1:]\n",
    "        # shuffle the whole matrix\n",
    "        np.random.shuffle(nn.T)\n",
    "        # only one neighbour\n",
    "        nn = nn[:,0]\n",
    "        og = np.arange(len(nn))\n",
    "        diff = (minority_x.iloc[og].values - minority_x.iloc[nn].values)[:,:minority_x.shape[1]]\n",
    "        # gap must be 3 dimensional arrays to generalize well\n",
    "        # beware of dimensions!!!\n",
    "        gap = np.random.random_sample((len(nn),int(np.floor(upsampling_multiplier-1))))\n",
    "        gap = gap.reshape(upsampling_multiplier-1,len(gap),1)\n",
    "        smoted = minority_x.iloc[og].values + (gap*diff)\n",
    "        smoted = smoted.reshape((upsampling_multiplier-1)*len(nn),smoted.shape[2])\n",
    "        smoted = np.c_[smoted, np.ones(smoted.shape[0])]\n",
    "        smoted = np.r_[majority_df.values, minority_df.values, smoted]\n",
    "        smoted = pd.DataFrame(smoted, columns=list(X))\n",
    "        return smoted"
   ]
  },
  {
   "cell_type": "code",
   "execution_count": 84,
   "metadata": {},
   "outputs": [],
   "source": [
    "smote = SMOTE(np.arange(6),6,200, 300, 5)\n",
    "smoted = smote.fit_transform(df_train)"
   ]
  },
  {
   "cell_type": "code",
   "execution_count": 85,
   "metadata": {},
   "outputs": [
    {
     "data": {
      "text/plain": [
       "<matplotlib.axes._subplots.AxesSubplot at 0x1a19a3c8d0>"
      ]
     },
     "execution_count": 85,
     "metadata": {},
     "output_type": "execute_result"
    },
    {
     "data": {
      "image/png": "[encoded data removed]",
      "text/plain": [
       "<Figure size 432x288 with 1 Axes>"
      ]
     },
     "metadata": {},
     "output_type": "display_data"
    }
   ],
   "source": [
    "sns.countplot(x=\"class\", data=smoted)"
   ]
  }
 ],
 "metadata": {
  "kernelspec": {
   "display_name": "Python 3",
   "language": "python",
   "name": "python3"
  },
  "language_info": {
   "codemirror_mode": {
    "name": "ipython",
    "version": 3
   },
   "file_extension": ".py",
   "mimetype": "text/x-python",
   "name": "python",
   "nbconvert_exporter": "python",
   "pygments_lexer": "ipython3",
   "version": "3.6.5"
  }
 },
 "nbformat": 4,
 "nbformat_minor": 2
}
